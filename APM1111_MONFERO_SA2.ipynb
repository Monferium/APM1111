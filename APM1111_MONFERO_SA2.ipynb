{
 "cells": [
  {
   "cell_type": "markdown",
   "id": "be821494",
   "metadata": {},
   "source": [
    "# 📋 Summative Assessment 2\n",
    "## 🔏Monfero, John Benedict A.\n",
    "*Github File Link:* "
   ]
  },
  {
   "cell_type": "markdown",
   "id": "2d69f493",
   "metadata": {},
   "source": [
    "<h1><center> 🌟 Data Description 🌟"
   ]
  },
  {
   "cell_type": "markdown",
   "id": "3dd48609",
   "metadata": {},
   "source": [
    "<center><b>Mice are used in an experiment to test drugs that may prevent Alzheimer’s disease. Half the mice are transgenic – have been genetically modified to have Alzheimer’s disease. The other half of the mice are “wild type” – they have not been modified in any way, and are considered free of Alzheimer’s disease. The mice are assigned to treatment conditions and given one of four drugs, then tested on memory using a maze. The number of errors made in the maze is recorded for the Training Day and the Memory Day."
   ]
  },
  {
   "cell_type": "markdown",
   "id": "f3a7110a",
   "metadata": {},
   "source": [
    "<h2><center> 💥 Directions 💥"
   ]
  },
  {
   "cell_type": "markdown",
   "id": "dc9cce59",
   "metadata": {},
   "source": [
    "> **Analyze data using a 2-Factor (2B) ANOVA. (Just choose one of the two below. If you choose two, the other one will be considered a bonus item wit a maximum of 15 points.)**\n",
    ">\n",
    "> 1. **Compare the training day errors based on drug treatments and AD status.**\n",
    ">\n",
    "> 2. **Compare the memory day errors based on drug treatments and AD status.**"
   ]
  },
  {
   "cell_type": "markdown",
   "id": "101d7578",
   "metadata": {},
   "source": [
    "<h3><center> 💎 I choose the bonus item route with maximum of 15 points 💎"
   ]
  },
  {
   "cell_type": "markdown",
   "id": "1c1f66e6",
   "metadata": {},
   "source": [
    "> **Compare the memory day errors based on drug treatments and AD status.**"
   ]
  },
  {
   "cell_type": "markdown",
   "id": "ebfe4f30",
   "metadata": {},
   "source": [
    "### Step 1: Import neccesary Libraries to the entire tasks!"
   ]
  },
  {
   "cell_type": "code",
   "execution_count": 1,
   "id": "b56d4455",
   "metadata": {},
   "outputs": [],
   "source": [
    "import pandas as pd\n",
    "import numpy as np\n",
    "import scipy.stats as stats\n",
    "import matplotlib.pyplot as plt\n",
    "import seaborn as sns\n",
    "from statsmodels.formula.api import ols\n",
    "from statsmodels.stats.anova import anova_lm\n",
    "from statsmodels.stats.outliers_influence import variance_inflation_factor\n",
    "from statsmodels.stats.diagnostic import lilliefors\n",
    "from statsmodels.stats.multicomp import pairwise_tukeyhsd"
   ]
  },
  {
   "cell_type": "code",
   "execution_count": 2,
   "id": "7a91c5ea",
   "metadata": {},
   "outputs": [
    {
     "data": {
      "text/html": [
       "<div>\n",
       "<style scoped>\n",
       "    .dataframe tbody tr th:only-of-type {\n",
       "        vertical-align: middle;\n",
       "    }\n",
       "\n",
       "    .dataframe tbody tr th {\n",
       "        vertical-align: top;\n",
       "    }\n",
       "\n",
       "    .dataframe thead th {\n",
       "        text-align: right;\n",
       "    }\n",
       "</style>\n",
       "<table border=\"1\" class=\"dataframe\">\n",
       "  <thead>\n",
       "    <tr style=\"text-align: right;\">\n",
       "      <th></th>\n",
       "      <th>AD_Status</th>\n",
       "      <th>Treatment</th>\n",
       "      <th>Training</th>\n",
       "      <th>Memory</th>\n",
       "    </tr>\n",
       "  </thead>\n",
       "  <tbody>\n",
       "    <tr>\n",
       "      <th>0</th>\n",
       "      <td>1</td>\n",
       "      <td>1</td>\n",
       "      <td>12</td>\n",
       "      <td>10</td>\n",
       "    </tr>\n",
       "    <tr>\n",
       "      <th>1</th>\n",
       "      <td>1</td>\n",
       "      <td>1</td>\n",
       "      <td>15</td>\n",
       "      <td>12</td>\n",
       "    </tr>\n",
       "    <tr>\n",
       "      <th>2</th>\n",
       "      <td>1</td>\n",
       "      <td>1</td>\n",
       "      <td>13</td>\n",
       "      <td>13</td>\n",
       "    </tr>\n",
       "    <tr>\n",
       "      <th>3</th>\n",
       "      <td>1</td>\n",
       "      <td>1</td>\n",
       "      <td>12</td>\n",
       "      <td>10</td>\n",
       "    </tr>\n",
       "    <tr>\n",
       "      <th>4</th>\n",
       "      <td>1</td>\n",
       "      <td>1</td>\n",
       "      <td>14</td>\n",
       "      <td>13</td>\n",
       "    </tr>\n",
       "    <tr>\n",
       "      <th>5</th>\n",
       "      <td>1</td>\n",
       "      <td>2</td>\n",
       "      <td>15</td>\n",
       "      <td>13</td>\n",
       "    </tr>\n",
       "    <tr>\n",
       "      <th>6</th>\n",
       "      <td>1</td>\n",
       "      <td>2</td>\n",
       "      <td>17</td>\n",
       "      <td>13</td>\n",
       "    </tr>\n",
       "    <tr>\n",
       "      <th>7</th>\n",
       "      <td>1</td>\n",
       "      <td>2</td>\n",
       "      <td>16</td>\n",
       "      <td>14</td>\n",
       "    </tr>\n",
       "    <tr>\n",
       "      <th>8</th>\n",
       "      <td>1</td>\n",
       "      <td>2</td>\n",
       "      <td>17</td>\n",
       "      <td>15</td>\n",
       "    </tr>\n",
       "    <tr>\n",
       "      <th>9</th>\n",
       "      <td>1</td>\n",
       "      <td>2</td>\n",
       "      <td>14</td>\n",
       "      <td>11</td>\n",
       "    </tr>\n",
       "    <tr>\n",
       "      <th>10</th>\n",
       "      <td>1</td>\n",
       "      <td>3</td>\n",
       "      <td>13</td>\n",
       "      <td>12</td>\n",
       "    </tr>\n",
       "    <tr>\n",
       "      <th>11</th>\n",
       "      <td>1</td>\n",
       "      <td>3</td>\n",
       "      <td>14</td>\n",
       "      <td>11</td>\n",
       "    </tr>\n",
       "    <tr>\n",
       "      <th>12</th>\n",
       "      <td>1</td>\n",
       "      <td>3</td>\n",
       "      <td>18</td>\n",
       "      <td>15</td>\n",
       "    </tr>\n",
       "    <tr>\n",
       "      <th>13</th>\n",
       "      <td>1</td>\n",
       "      <td>3</td>\n",
       "      <td>15</td>\n",
       "      <td>10</td>\n",
       "    </tr>\n",
       "    <tr>\n",
       "      <th>14</th>\n",
       "      <td>1</td>\n",
       "      <td>3</td>\n",
       "      <td>16</td>\n",
       "      <td>14</td>\n",
       "    </tr>\n",
       "    <tr>\n",
       "      <th>15</th>\n",
       "      <td>1</td>\n",
       "      <td>4</td>\n",
       "      <td>14</td>\n",
       "      <td>12</td>\n",
       "    </tr>\n",
       "    <tr>\n",
       "      <th>16</th>\n",
       "      <td>1</td>\n",
       "      <td>4</td>\n",
       "      <td>13</td>\n",
       "      <td>11</td>\n",
       "    </tr>\n",
       "    <tr>\n",
       "      <th>17</th>\n",
       "      <td>1</td>\n",
       "      <td>4</td>\n",
       "      <td>12</td>\n",
       "      <td>10</td>\n",
       "    </tr>\n",
       "    <tr>\n",
       "      <th>18</th>\n",
       "      <td>1</td>\n",
       "      <td>4</td>\n",
       "      <td>14</td>\n",
       "      <td>13</td>\n",
       "    </tr>\n",
       "    <tr>\n",
       "      <th>19</th>\n",
       "      <td>1</td>\n",
       "      <td>4</td>\n",
       "      <td>15</td>\n",
       "      <td>10</td>\n",
       "    </tr>\n",
       "    <tr>\n",
       "      <th>20</th>\n",
       "      <td>2</td>\n",
       "      <td>1</td>\n",
       "      <td>17</td>\n",
       "      <td>9</td>\n",
       "    </tr>\n",
       "    <tr>\n",
       "      <th>21</th>\n",
       "      <td>2</td>\n",
       "      <td>1</td>\n",
       "      <td>16</td>\n",
       "      <td>8</td>\n",
       "    </tr>\n",
       "    <tr>\n",
       "      <th>22</th>\n",
       "      <td>2</td>\n",
       "      <td>1</td>\n",
       "      <td>17</td>\n",
       "      <td>10</td>\n",
       "    </tr>\n",
       "    <tr>\n",
       "      <th>23</th>\n",
       "      <td>2</td>\n",
       "      <td>1</td>\n",
       "      <td>14</td>\n",
       "      <td>8</td>\n",
       "    </tr>\n",
       "    <tr>\n",
       "      <th>24</th>\n",
       "      <td>2</td>\n",
       "      <td>1</td>\n",
       "      <td>13</td>\n",
       "      <td>8</td>\n",
       "    </tr>\n",
       "    <tr>\n",
       "      <th>25</th>\n",
       "      <td>2</td>\n",
       "      <td>2</td>\n",
       "      <td>14</td>\n",
       "      <td>7</td>\n",
       "    </tr>\n",
       "    <tr>\n",
       "      <th>26</th>\n",
       "      <td>2</td>\n",
       "      <td>2</td>\n",
       "      <td>18</td>\n",
       "      <td>10</td>\n",
       "    </tr>\n",
       "    <tr>\n",
       "      <th>27</th>\n",
       "      <td>2</td>\n",
       "      <td>2</td>\n",
       "      <td>16</td>\n",
       "      <td>5</td>\n",
       "    </tr>\n",
       "    <tr>\n",
       "      <th>28</th>\n",
       "      <td>2</td>\n",
       "      <td>2</td>\n",
       "      <td>17</td>\n",
       "      <td>9</td>\n",
       "    </tr>\n",
       "    <tr>\n",
       "      <th>29</th>\n",
       "      <td>2</td>\n",
       "      <td>2</td>\n",
       "      <td>14</td>\n",
       "      <td>7</td>\n",
       "    </tr>\n",
       "    <tr>\n",
       "      <th>30</th>\n",
       "      <td>2</td>\n",
       "      <td>3</td>\n",
       "      <td>13</td>\n",
       "      <td>8</td>\n",
       "    </tr>\n",
       "    <tr>\n",
       "      <th>31</th>\n",
       "      <td>2</td>\n",
       "      <td>3</td>\n",
       "      <td>14</td>\n",
       "      <td>7</td>\n",
       "    </tr>\n",
       "    <tr>\n",
       "      <th>32</th>\n",
       "      <td>2</td>\n",
       "      <td>3</td>\n",
       "      <td>18</td>\n",
       "      <td>9</td>\n",
       "    </tr>\n",
       "    <tr>\n",
       "      <th>33</th>\n",
       "      <td>2</td>\n",
       "      <td>3</td>\n",
       "      <td>15</td>\n",
       "      <td>8</td>\n",
       "    </tr>\n",
       "    <tr>\n",
       "      <th>34</th>\n",
       "      <td>2</td>\n",
       "      <td>3</td>\n",
       "      <td>16</td>\n",
       "      <td>9</td>\n",
       "    </tr>\n",
       "    <tr>\n",
       "      <th>35</th>\n",
       "      <td>2</td>\n",
       "      <td>4</td>\n",
       "      <td>14</td>\n",
       "      <td>7</td>\n",
       "    </tr>\n",
       "    <tr>\n",
       "      <th>36</th>\n",
       "      <td>2</td>\n",
       "      <td>4</td>\n",
       "      <td>13</td>\n",
       "      <td>9</td>\n",
       "    </tr>\n",
       "    <tr>\n",
       "      <th>37</th>\n",
       "      <td>2</td>\n",
       "      <td>4</td>\n",
       "      <td>12</td>\n",
       "      <td>5</td>\n",
       "    </tr>\n",
       "    <tr>\n",
       "      <th>38</th>\n",
       "      <td>2</td>\n",
       "      <td>4</td>\n",
       "      <td>14</td>\n",
       "      <td>8</td>\n",
       "    </tr>\n",
       "    <tr>\n",
       "      <th>39</th>\n",
       "      <td>2</td>\n",
       "      <td>4</td>\n",
       "      <td>15</td>\n",
       "      <td>4</td>\n",
       "    </tr>\n",
       "  </tbody>\n",
       "</table>\n",
       "</div>"
      ],
      "text/plain": [
       "    AD_Status  Treatment  Training  Memory\n",
       "0           1          1        12      10\n",
       "1           1          1        15      12\n",
       "2           1          1        13      13\n",
       "3           1          1        12      10\n",
       "4           1          1        14      13\n",
       "5           1          2        15      13\n",
       "6           1          2        17      13\n",
       "7           1          2        16      14\n",
       "8           1          2        17      15\n",
       "9           1          2        14      11\n",
       "10          1          3        13      12\n",
       "11          1          3        14      11\n",
       "12          1          3        18      15\n",
       "13          1          3        15      10\n",
       "14          1          3        16      14\n",
       "15          1          4        14      12\n",
       "16          1          4        13      11\n",
       "17          1          4        12      10\n",
       "18          1          4        14      13\n",
       "19          1          4        15      10\n",
       "20          2          1        17       9\n",
       "21          2          1        16       8\n",
       "22          2          1        17      10\n",
       "23          2          1        14       8\n",
       "24          2          1        13       8\n",
       "25          2          2        14       7\n",
       "26          2          2        18      10\n",
       "27          2          2        16       5\n",
       "28          2          2        17       9\n",
       "29          2          2        14       7\n",
       "30          2          3        13       8\n",
       "31          2          3        14       7\n",
       "32          2          3        18       9\n",
       "33          2          3        15       8\n",
       "34          2          3        16       9\n",
       "35          2          4        14       7\n",
       "36          2          4        13       9\n",
       "37          2          4        12       5\n",
       "38          2          4        14       8\n",
       "39          2          4        15       4"
      ]
     },
     "execution_count": 2,
     "metadata": {},
     "output_type": "execute_result"
    }
   ],
   "source": [
    "Alzheimers_Mice_Data = pd.read_csv(r\"Alzheimers Mice Data.csv\")\n",
    "Alzheimers_Mice_Data"
   ]
  },
  {
   "cell_type": "markdown",
   "id": "7f0beefa",
   "metadata": {},
   "source": [
    "### Step 2: Enumerate the Assumptions for 2B ANOVA"
   ]
  },
  {
   "cell_type": "markdown",
   "id": "5c872701",
   "metadata": {},
   "source": [
    "##### 2.1: Your dependent variable should be measured at the continuous level(i.e., they are interval or ratio variables).\n",
    "##### 2.2: Your two independent variables should each consist of two or more categorical, independent groups.\n",
    "##### 2.3: You should have independence of observations, which means that there is no relationship between the observations in each group or between the groups themselves.\n",
    "##### 2.4: There should be no significant outliers.\n",
    "##### 2.5: Your dependent variable should be approximately normally distributed for each combination of the groups of the two independent variables.\n",
    "##### 2.6: There needs to be homogeneity of variances for each combination of the groups of the two independent variables."
   ]
  },
  {
   "cell_type": "markdown",
   "id": "8daf6eda",
   "metadata": {},
   "source": [
    "### Step 3: the Data and its Assumption Checks!"
   ]
  },
  {
   "cell_type": "markdown",
   "id": "369bb80b",
   "metadata": {},
   "source": [
    "##### 3.1 Assumption Check: Dependent variable should be continuous (`Memory errors`)"
   ]
  },
  {
   "cell_type": "code",
   "execution_count": 3,
   "id": "501dd9af",
   "metadata": {},
   "outputs": [
    {
     "name": "stdout",
     "output_type": "stream",
     "text": [
      "Assumption Check: Dependent variable should be continuous (Memory errors)\n",
      "Memory column data type: int64\n"
     ]
    }
   ],
   "source": [
    "print(\"Assumption Check: Dependent variable should be continuous (Memory errors)\")\n",
    "print(f\"Memory column data type: {Alzheimers_Mice_Data['Memory'].dtype}\")"
   ]
  },
  {
   "cell_type": "markdown",
   "id": "ade44a90",
   "metadata": {},
   "source": [
    "##### 3.2 Assumption Check: Independent variables should be categorical and have two or more groups"
   ]
  },
  {
   "cell_type": "code",
   "execution_count": 4,
   "id": "db4f63ac",
   "metadata": {},
   "outputs": [
    {
     "name": "stdout",
     "output_type": "stream",
     "text": [
      "\n",
      "Assumption Check: Independent variables should be categorical and have two or more groups\n",
      "AD_Status unique values: [1 2]\n",
      "Treatment unique values: [1 2 3 4]\n"
     ]
    }
   ],
   "source": [
    "print(\"\\nAssumption Check: Independent variables should be categorical and have two or more groups\")\n",
    "print(f\"AD_Status unique values: {Alzheimers_Mice_Data['AD_Status'].unique()}\")\n",
    "print(f\"Treatment unique values: {Alzheimers_Mice_Data['Treatment'].unique()}\")"
   ]
  },
  {
   "cell_type": "markdown",
   "id": "5f04d95e",
   "metadata": {},
   "source": [
    "##### 3.3 Assumption Check: Independence of observations"
   ]
  },
  {
   "cell_type": "code",
   "execution_count": 5,
   "id": "09f6e35c",
   "metadata": {},
   "outputs": [],
   "source": [
    "# This assumption is usually checked based on the study design.\n",
    "# We assume independence and non-biased gathering of data here."
   ]
  },
  {
   "cell_type": "markdown",
   "id": "c946c9fc",
   "metadata": {},
   "source": [
    "##### 3.4 Assumption Check: Checking Outliers"
   ]
  },
  {
   "cell_type": "code",
   "execution_count": 6,
   "id": "ae30cfc8",
   "metadata": {},
   "outputs": [
    {
     "name": "stdout",
     "output_type": "stream",
     "text": [
      "\n",
      "Assumption Check: No significant outliers\n"
     ]
    },
    {
     "data": {
      "image/png": "[encoded data removed]",
      "text/plain": [
       "<Figure size 640x480 with 1 Axes>"
      ]
     },
     "metadata": {},
     "output_type": "display_data"
    }
   ],
   "source": [
    "print(\"\\nAssumption Check: No significant outliers\")\n",
    "sns.boxplot(x='Treatment', y='Memory', data=Alzheimers_Mice_Data)\n",
    "plt.title('Boxplot for Memory by Treatment')\n",
    "plt.show()"
   ]
  },
  {
   "cell_type": "code",
   "execution_count": 7,
   "id": "553ce1a3",
   "metadata": {},
   "outputs": [
    {
     "name": "stdout",
     "output_type": "stream",
     "text": [
      "\n",
      "Assumption Check: No significant outliers\n"
     ]
    },
    {
     "data": {
      "image/png": "[encoded data removed]",
      "text/plain": [
       "<Figure size 640x480 with 1 Axes>"
      ]
     },
     "metadata": {},
     "output_type": "display_data"
    }
   ],
   "source": [
    "print(\"\\nAssumption Check: No significant outliers\")\n",
    "sns.boxplot(x='AD_Status', y='Memory', data=Alzheimers_Mice_Data)\n",
    "plt.title('Boxplot for Memory by AD_Status')\n",
    "plt.show()"
   ]
  },
  {
   "cell_type": "markdown",
   "id": "01530355",
   "metadata": {},
   "source": [
    "##### 3.5 Assumption Check: Normality Check"
   ]
  },
  {
   "cell_type": "code",
   "execution_count": 8,
   "id": "a1cac05b",
   "metadata": {},
   "outputs": [
    {
     "name": "stdout",
     "output_type": "stream",
     "text": [
      "\n",
      "Assumption Check: Normality of dependent variable for each combination of groups\n",
      "Group (1, 1): Lilliefors test p-value = 0.3820161744233932\n",
      "Group (1, 2): Lilliefors test p-value = 0.4267374503575821\n",
      "Group (1, 3): Lilliefors test p-value = 0.880148491256168\n",
      "Group (1, 4): Lilliefors test p-value = 0.5973593600787575\n",
      "Group (2, 1): Lilliefors test p-value = 0.04406607121617753\n",
      "Group (2, 2): Lilliefors test p-value = 0.6007977047254092\n",
      "Group (2, 3): Lilliefors test p-value = 0.5232323776599133\n",
      "Group (2, 4): Lilliefors test p-value = 0.880148491256168\n"
     ]
    }
   ],
   "source": [
    "# Assumption Check: Dependent variable should be approximately normally distributed for each combination of groups\n",
    "print(\"\\nAssumption Check: Normality of dependent variable for each combination of groups\")\n",
    "combinations = Alzheimers_Mice_Data.groupby(['AD_Status', 'Treatment'])\n",
    "for name, group in combinations:\n",
    "    stat, p = lilliefors(group['Memory'])\n",
    "    print(f'Group {name}: Lilliefors test p-value = {p}')"
   ]
  },
  {
   "cell_type": "markdown",
   "id": "a5ca0e85",
   "metadata": {},
   "source": [
    "##### 3.6 Assumption Check: Homogeneity of variances"
   ]
  },
  {
   "cell_type": "code",
   "execution_count": 9,
   "id": "2cbe5bf5",
   "metadata": {
    "scrolled": true
   },
   "outputs": [
    {
     "name": "stdout",
     "output_type": "stream",
     "text": [
      "Levene's test p-value: 0.44203326660708975\n"
     ]
    }
   ],
   "source": [
    "# Assumption Check: Homogeneity of variances\n",
    "# Levene's test for homogeneity of variances\n",
    "levene_stat, levene_p = stats.levene(Alzheimers_Mice_Data['Memory'][Alzheimers_Mice_Data['AD_Status'] == 1],\n",
    "                                     Alzheimers_Mice_Data['Memory'][Alzheimers_Mice_Data['AD_Status'] == 2])\n",
    "print(f\"Levene's test p-value: {levene_p}\")"
   ]
  },
  {
   "cell_type": "markdown",
   "id": "b6272020",
   "metadata": {},
   "source": [
    "### 🏆 We can proceed with formulating the Null and Alternative Hypothesis 🏆\n",
    "<center> Since all assumptions for the 2-Way ANOVA (2B ANOVA) were satisfied"
   ]
  },
  {
   "cell_type": "markdown",
   "id": "0e10a1a5",
   "metadata": {},
   "source": [
    "#### Step 4.1: Null Hypothesis ($H_0$): \n",
    "> 4.11: $μ_\\text{AD Status 1} = μ_\\text{AD Status 2}$\n",
    ">> Main Effect of AD Status: There is no significant difference in memory errors between the different AD status groups.\n",
    ">\n",
    "> 4.12: $μ_\\text{Treatment 1} = μ_\\text{Treatment 2} = μ_\\text{Treatment 3} = μ_\\text{Treatment 4}$\n",
    ">> Main Effect of Treatment: There is no significant difference in memory errors between the different treatment groups.\n",
    ">\n",
    "> 4.13: $\\text{There is no interaction effect between AD status and treatment}$\n",
    ">> Interaction Effect: There is no significant interaction effect between AD status and treatment on memory errors."
   ]
  },
  {
   "cell_type": "markdown",
   "id": "85419b12",
   "metadata": {},
   "source": [
    "#### Step 4.2: Alternative Hypothesis ($H_A$): \n",
    "> 4.21: $μ_\\text{AD Status 1} \\neq μ_\\text{AD Status 2}$\n",
    ">> Main Effect of AD Status: There is a significant difference in memory errors between at least two of the AD status groups.\n",
    ">\n",
    "> 4.22: $μ_\\text{Treatment 1} \\neq μ_\\text{Treatment 2} \\neq μ_\\text{Treatment 3} \\neq μ_\\text{Treatment 4}$\n",
    ">> Main Effect of Treatment: There is a significant difference in memory errors between the different treatment groups.\n",
    ">\n",
    "> 4.23: $\\text{There is an interaction effect between AD status and treatment}$\n",
    ">> Interaction Effect: There is an significant interaction effect between AD status and treatment on memory errors."
   ]
  },
  {
   "cell_type": "markdown",
   "id": "2f352de8",
   "metadata": {},
   "source": [
    "#### Step 5: Execution of 2B ANOVA MODEL"
   ]
  },
  {
   "cell_type": "code",
   "execution_count": 10,
   "id": "e5c64649",
   "metadata": {},
   "outputs": [
    {
     "data": {
      "text/html": [
       "<div>\n",
       "<style scoped>\n",
       "    .dataframe tbody tr th:only-of-type {\n",
       "        vertical-align: middle;\n",
       "    }\n",
       "\n",
       "    .dataframe tbody tr th {\n",
       "        vertical-align: top;\n",
       "    }\n",
       "\n",
       "    .dataframe thead th {\n",
       "        text-align: right;\n",
       "    }\n",
       "</style>\n",
       "<table border=\"1\" class=\"dataframe\">\n",
       "  <thead>\n",
       "    <tr style=\"text-align: right;\">\n",
       "      <th></th>\n",
       "      <th>df</th>\n",
       "      <th>sum_sq</th>\n",
       "      <th>mean_sq</th>\n",
       "      <th>F</th>\n",
       "      <th>PR(&gt;F)</th>\n",
       "    </tr>\n",
       "  </thead>\n",
       "  <tbody>\n",
       "    <tr>\n",
       "      <th>C(AD_Status)</th>\n",
       "      <td>1.0</td>\n",
       "      <td>189.225</td>\n",
       "      <td>189.225000</td>\n",
       "      <td>75.313433</td>\n",
       "      <td>0.0000000006</td>\n",
       "    </tr>\n",
       "    <tr>\n",
       "      <th>C(Treatment)</th>\n",
       "      <td>3.0</td>\n",
       "      <td>14.475</td>\n",
       "      <td>4.825000</td>\n",
       "      <td>1.920398</td>\n",
       "      <td>0.1461175825</td>\n",
       "    </tr>\n",
       "    <tr>\n",
       "      <th>C(AD_Status):C(Treatment)</th>\n",
       "      <td>3.0</td>\n",
       "      <td>8.675</td>\n",
       "      <td>2.891667</td>\n",
       "      <td>1.150912</td>\n",
       "      <td>0.3436262581</td>\n",
       "    </tr>\n",
       "    <tr>\n",
       "      <th>Residual</th>\n",
       "      <td>32.0</td>\n",
       "      <td>80.400</td>\n",
       "      <td>2.512500</td>\n",
       "      <td>NaN</td>\n",
       "      <td>NaN</td>\n",
       "    </tr>\n",
       "  </tbody>\n",
       "</table>\n",
       "</div>"
      ],
      "text/plain": [
       "                             df   sum_sq     mean_sq          F        PR(>F)\n",
       "C(AD_Status)                1.0  189.225  189.225000  75.313433  0.0000000006\n",
       "C(Treatment)                3.0   14.475    4.825000   1.920398  0.1461175825\n",
       "C(AD_Status):C(Treatment)   3.0    8.675    2.891667   1.150912  0.3436262581\n",
       "Residual                   32.0   80.400    2.512500        NaN           NaN"
      ]
     },
     "execution_count": 10,
     "metadata": {},
     "output_type": "execute_result"
    }
   ],
   "source": [
    "# Fit the 2-way ANOVA model\n",
    "model = ols('Memory ~ C(AD_Status) * C(Treatment)', data=Alzheimers_Mice_Data).fit()\n",
    "anova_table = anova_lm(model)\n",
    "\n",
    "# Convert scientific notation to float format\n",
    "anova_table['PR(>F)'] = anova_table['PR(>F)'].apply(lambda x: '{:.10f}'.format(x) if pd.notnull(x) else x)\n",
    "\n",
    "anova_table"
   ]
  },
  {
   "cell_type": "markdown",
   "id": "08b01b9c",
   "metadata": {},
   "source": [
    "## Step 6: Data Intepretation\n",
    "\n",
    "**Interpreting the Results**\n",
    "The ANOVA table will provide the following columns:\n",
    "\n",
    "> $\\text{df}$: Degrees of freedom for each source of variance.\n",
    ">\n",
    "> $\\text{sum_sq}$: Sum of squares for each source.\n",
    "> \n",
    "> $\\text{mean_sq}$: Mean sum of squares for each source.\n",
    "> \n",
    "> $\\text{F}$: F-statistic for each source.\n",
    "> \n",
    "> $\\text{PR(>F)}$: p-value for each source."
   ]
  },
  {
   "cell_type": "markdown",
   "id": "24de4892",
   "metadata": {},
   "source": [
    "> + **C(AD_Status)**: Significant effect (p-value < 0.05), indicating AD status affects memory errors.\n",
    ">> Take the first $H_A$ \n",
    ">>\n",
    ">> **Therefore we shall perform POST-HOC TEST to determine which group of AD_Status differs**\n",
    "> + **C(Treatment)**: Not significant (p-value > 0.05), indicating no significant effect of treatment on memory errors.\n",
    ">> Take the second $H_0$\n",
    "> + **C(AD_Status):C(Treatment)**: Not significant (p-value > 0.05), indicating no significant interaction effect.\n",
    ">> Take the third $H_0$"
   ]
  },
  {
   "cell_type": "code",
   "execution_count": 11,
   "id": "885d8e68",
   "metadata": {},
   "outputs": [
    {
     "name": "stdout",
     "output_type": "stream",
     "text": [
      "Multiple Comparison of Means - Tukey HSD, FWER=0.05\n",
      "===================================================\n",
      "group1 group2 meandiff p-adj   lower  upper  reject\n",
      "---------------------------------------------------\n",
      "     1      2      0.3  0.995 -3.0488 3.6488  False\n",
      "     1      3      0.2 0.9985 -3.1488 3.5488  False\n",
      "     1      4     -1.2 0.7699 -4.5488 2.1488  False\n",
      "     2      3     -0.1 0.9998 -3.4488 3.2488  False\n",
      "     2      4     -1.5 0.6269 -4.8488 1.8488  False\n",
      "     3      4     -1.4 0.6762 -4.7488 1.9488  False\n",
      "---------------------------------------------------\n"
     ]
    },
    {
     "data": {
      "image/png": "[encoded data removed]",
      "text/plain": [
       "<Figure size 1000x600 with 1 Axes>"
      ]
     },
     "metadata": {},
     "output_type": "display_data"
    }
   ],
   "source": [
    "# Perform post-hoc analysis using Tukey's HSD test\n",
    "posthoc = pairwise_tukeyhsd(Alzheimers_Mice_Data['Memory'], Alzheimers_Mice_Data['Treatment'], alpha=0.05)\n",
    "print(posthoc)\n",
    "\n",
    "# Plot the results of the post-hoc analysis\n",
    "posthoc.plot_simultaneous()\n",
    "plt.title('Tukey HSD Post-Hoc Test for Treatment Groups')\n",
    "plt.show()"
   ]
  },
  {
   "cell_type": "markdown",
   "id": "94926c03",
   "metadata": {},
   "source": [
    "### Step 8: APA Report\n",
    "##### Introduction\n",
    "> This study aimed to investigate the effects of different drug treatments on memory errors in mice with and without Alzheimer's disease (AD). As the experiment involved genetically modified mice (transgenic) with Alzheimer's disease and wild-type mice without the disease. The mice were assigned to one of four drug treatments and tested on memory using a maze. **The number of errors made in the maze was recorded for both the training day and the memory day.**\n",
    "\n",
    "##### Methodology\n",
    "> The study included 40 mice as participants where: \n",
    ">> (A) The entire group was divided into four groups and each 10 mice had assigned to only one specific treatment plan\n",
    ">> \n",
    ">> (B) Exactly Half of all participants has Alzheimer's disease (AD)\n",
    ">> \n",
    ">> (C) Exactly Half of each 10 mice taking unique treatment plan has Alzheimer's disease (AD)\n",
    "\n",
    "##### Design: \n",
    "> **A 2-way ANOVA was conducted to examine the effects of AD status and drug treatment on memory errors.** The independent variables were AD status (transgenic vs. wild-type) and treatment (four different drugs). The dependent variable was the number of memory errors.\n",
    "\n",
    "##### Data Preview:"
   ]
  },
  {
   "cell_type": "code",
   "execution_count": 12,
   "id": "7a861547",
   "metadata": {},
   "outputs": [
    {
     "data": {
      "text/html": [
       "<div>\n",
       "<style scoped>\n",
       "    .dataframe tbody tr th:only-of-type {\n",
       "        vertical-align: middle;\n",
       "    }\n",
       "\n",
       "    .dataframe tbody tr th {\n",
       "        vertical-align: top;\n",
       "    }\n",
       "\n",
       "    .dataframe thead th {\n",
       "        text-align: right;\n",
       "    }\n",
       "</style>\n",
       "<table border=\"1\" class=\"dataframe\">\n",
       "  <thead>\n",
       "    <tr style=\"text-align: right;\">\n",
       "      <th></th>\n",
       "      <th>AD_Status</th>\n",
       "      <th>Treatment</th>\n",
       "      <th>Training</th>\n",
       "      <th>Memory</th>\n",
       "    </tr>\n",
       "  </thead>\n",
       "  <tbody>\n",
       "  </tbody>\n",
       "</table>\n",
       "</div>"
      ],
      "text/plain": [
       "Empty DataFrame\n",
       "Columns: [AD_Status, Treatment, Training, Memory]\n",
       "Index: []"
      ]
     },
     "execution_count": 12,
     "metadata": {},
     "output_type": "execute_result"
    }
   ],
   "source": [
    "Alzheimers_Mice_Data.head(0)"
   ]
  },
  {
   "cell_type": "markdown",
   "id": "832d8870",
   "metadata": {},
   "source": [
    "##### Assumption Checks:\n",
    "> Dependent Variable Continuity: The dependent variable (`memory errors`) is continuous.\n",
    "> \n",
    "> Categorical Independent Variables: Both independent variables (`AD status` and `treatment`) are categorical with two or more groups.\n",
    "> \n",
    "> Independence of Observations: Assumed based on the study design.\n",
    "> \n",
    "> No Significant Outliers: Boxplots were used to visually inspect for outliers.\n",
    "> \n",
    "> Normality: The Lilliefors test was used to check the normality of the memory errors for each combination of AD status and treatment.\n",
    "> \n",
    "> Homogeneity of Variances: Levene's test was used to check for homogeneity of variances.\n",
    "\n",
    "##### The 2-way ANOVA results are summarized in the table below:"
   ]
  },
  {
   "cell_type": "code",
   "execution_count": 13,
   "id": "e644ca6e",
   "metadata": {},
   "outputs": [
    {
     "data": {
      "text/html": [
       "<div>\n",
       "<style scoped>\n",
       "    .dataframe tbody tr th:only-of-type {\n",
       "        vertical-align: middle;\n",
       "    }\n",
       "\n",
       "    .dataframe tbody tr th {\n",
       "        vertical-align: top;\n",
       "    }\n",
       "\n",
       "    .dataframe thead th {\n",
       "        text-align: right;\n",
       "    }\n",
       "</style>\n",
       "<table border=\"1\" class=\"dataframe\">\n",
       "  <thead>\n",
       "    <tr style=\"text-align: right;\">\n",
       "      <th></th>\n",
       "      <th>df</th>\n",
       "      <th>sum_sq</th>\n",
       "      <th>mean_sq</th>\n",
       "      <th>F</th>\n",
       "      <th>PR(&gt;F)</th>\n",
       "    </tr>\n",
       "  </thead>\n",
       "  <tbody>\n",
       "    <tr>\n",
       "      <th>C(AD_Status)</th>\n",
       "      <td>1.0</td>\n",
       "      <td>189.225</td>\n",
       "      <td>189.225000</td>\n",
       "      <td>75.313433</td>\n",
       "      <td>0.0000000006</td>\n",
       "    </tr>\n",
       "    <tr>\n",
       "      <th>C(Treatment)</th>\n",
       "      <td>3.0</td>\n",
       "      <td>14.475</td>\n",
       "      <td>4.825000</td>\n",
       "      <td>1.920398</td>\n",
       "      <td>0.1461175825</td>\n",
       "    </tr>\n",
       "    <tr>\n",
       "      <th>C(AD_Status):C(Treatment)</th>\n",
       "      <td>3.0</td>\n",
       "      <td>8.675</td>\n",
       "      <td>2.891667</td>\n",
       "      <td>1.150912</td>\n",
       "      <td>0.3436262581</td>\n",
       "    </tr>\n",
       "    <tr>\n",
       "      <th>Residual</th>\n",
       "      <td>32.0</td>\n",
       "      <td>80.400</td>\n",
       "      <td>2.512500</td>\n",
       "      <td>NaN</td>\n",
       "      <td>NaN</td>\n",
       "    </tr>\n",
       "  </tbody>\n",
       "</table>\n",
       "</div>"
      ],
      "text/plain": [
       "                             df   sum_sq     mean_sq          F        PR(>F)\n",
       "C(AD_Status)                1.0  189.225  189.225000  75.313433  0.0000000006\n",
       "C(Treatment)                3.0   14.475    4.825000   1.920398  0.1461175825\n",
       "C(AD_Status):C(Treatment)   3.0    8.675    2.891667   1.150912  0.3436262581\n",
       "Residual                   32.0   80.400    2.512500        NaN           NaN"
      ]
     },
     "execution_count": 13,
     "metadata": {},
     "output_type": "execute_result"
    }
   ],
   "source": [
    "anova_table"
   ]
  },
  {
   "cell_type": "markdown",
   "id": "22b89990",
   "metadata": {},
   "source": [
    "##### Result Interpretation\n",
    "> **Main Effect of AD Status:** There was a significant main effect of AD status on memory errors, ( F(1, 32) = 75.31, p < .001 ).\n",
    "> **Main Effect of Treatment:** There was no significant main effect of treatment on memory errors, ( F(3, 32) = 1.92, p = .146 ).\n",
    "> **Interaction Effect:** There was no significant interaction effect between AD status and treatment on memory errors, ( F(3, 32) = 1.15, p = .344 ).\n",
    "\n",
    "##### Discussion\n",
    "> **The results indicate that AD status significantly affects memory errors, with transgenic mice showing more errors compared to wild-type mice. However, the different drug treatments did not significantly affect memory errors, nor was there a significant interaction between AD status and treatment. These findings suggest that while the presence of Alzheimer's disease impacts memory performance, the specific drug treatments tested did not show a significant effect in this study.**\n",
    "\n",
    "##### Conclusion\n",
    "> **This study highlights the importance of considering AD status in memory performance research. Future studies should explore additional treatments and larger sample sizes to further investigate potential therapeutic effects on memory errors in Alzheimer's disease.**"
   ]
  }
 ],
 "metadata": {
  "kernelspec": {
   "display_name": "Python 3 (ipykernel)",
   "language": "python",
   "name": "python3"
  },
  "language_info": {
   "codemirror_mode": {
    "name": "ipython",
    "version": 3
   },
   "file_extension": ".py",
   "mimetype": "text/x-python",
   "name": "python",
   "nbconvert_exporter": "python",
   "pygments_lexer": "ipython3",
   "version": "3.11.5"
  }
 },
 "nbformat": 4,
 "nbformat_minor": 5
}
